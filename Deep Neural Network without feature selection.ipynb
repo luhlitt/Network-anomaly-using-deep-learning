{
 "cells": [
  {
   "cell_type": "code",
   "execution_count": 6,
   "metadata": {},
   "outputs": [],
   "source": [
    "# loading libraries\n",
    "import os\n",
    "import glob\n",
    "import pandas as pd\n",
    "import numpy as np\n",
    "import matplotlib.pyplot as plt\n",
    "\n",
    "from sklearn.preprocessing import LabelEncoder, OneHotEncoder\n",
    "from imblearn.under_sampling import RandomUnderSampler\n",
    "from imblearn.over_sampling import SMOTE"
   ]
  },
  {
   "cell_type": "code",
   "execution_count": 7,
   "metadata": {},
   "outputs": [
    {
     "data": {
      "text/html": [
       "<div>\n",
       "<style scoped>\n",
       "    .dataframe tbody tr th:only-of-type {\n",
       "        vertical-align: middle;\n",
       "    }\n",
       "\n",
       "    .dataframe tbody tr th {\n",
       "        vertical-align: top;\n",
       "    }\n",
       "\n",
       "    .dataframe thead th {\n",
       "        text-align: right;\n",
       "    }\n",
       "</style>\n",
       "<table border=\"1\" class=\"dataframe\">\n",
       "  <thead>\n",
       "    <tr style=\"text-align: right;\">\n",
       "      <th></th>\n",
       "      <th>Destination Port</th>\n",
       "      <th>Flow Duration</th>\n",
       "      <th>Total Fwd Packets</th>\n",
       "      <th>Total Backward Packets</th>\n",
       "      <th>Total Length of Fwd Packets</th>\n",
       "      <th>Total Length of Bwd Packets</th>\n",
       "      <th>Fwd Packet Length Max</th>\n",
       "      <th>Fwd Packet Length Min</th>\n",
       "      <th>Fwd Packet Length Mean</th>\n",
       "      <th>Fwd Packet Length Std</th>\n",
       "      <th>...</th>\n",
       "      <th>min_seg_size_forward</th>\n",
       "      <th>Active Mean</th>\n",
       "      <th>Active Std</th>\n",
       "      <th>Active Max</th>\n",
       "      <th>Active Min</th>\n",
       "      <th>Idle Mean</th>\n",
       "      <th>Idle Std</th>\n",
       "      <th>Idle Max</th>\n",
       "      <th>Idle Min</th>\n",
       "      <th>Label</th>\n",
       "    </tr>\n",
       "  </thead>\n",
       "  <tbody>\n",
       "    <tr>\n",
       "      <th>0</th>\n",
       "      <td>54865</td>\n",
       "      <td>3</td>\n",
       "      <td>2</td>\n",
       "      <td>0</td>\n",
       "      <td>12</td>\n",
       "      <td>0</td>\n",
       "      <td>6</td>\n",
       "      <td>6</td>\n",
       "      <td>6.0</td>\n",
       "      <td>0.00000</td>\n",
       "      <td>...</td>\n",
       "      <td>20</td>\n",
       "      <td>0.0</td>\n",
       "      <td>0.0</td>\n",
       "      <td>0</td>\n",
       "      <td>0</td>\n",
       "      <td>0.0</td>\n",
       "      <td>0.0</td>\n",
       "      <td>0</td>\n",
       "      <td>0</td>\n",
       "      <td>BENIGN</td>\n",
       "    </tr>\n",
       "    <tr>\n",
       "      <th>1</th>\n",
       "      <td>55054</td>\n",
       "      <td>109</td>\n",
       "      <td>1</td>\n",
       "      <td>1</td>\n",
       "      <td>6</td>\n",
       "      <td>6</td>\n",
       "      <td>6</td>\n",
       "      <td>6</td>\n",
       "      <td>6.0</td>\n",
       "      <td>0.00000</td>\n",
       "      <td>...</td>\n",
       "      <td>20</td>\n",
       "      <td>0.0</td>\n",
       "      <td>0.0</td>\n",
       "      <td>0</td>\n",
       "      <td>0</td>\n",
       "      <td>0.0</td>\n",
       "      <td>0.0</td>\n",
       "      <td>0</td>\n",
       "      <td>0</td>\n",
       "      <td>BENIGN</td>\n",
       "    </tr>\n",
       "    <tr>\n",
       "      <th>2</th>\n",
       "      <td>55055</td>\n",
       "      <td>52</td>\n",
       "      <td>1</td>\n",
       "      <td>1</td>\n",
       "      <td>6</td>\n",
       "      <td>6</td>\n",
       "      <td>6</td>\n",
       "      <td>6</td>\n",
       "      <td>6.0</td>\n",
       "      <td>0.00000</td>\n",
       "      <td>...</td>\n",
       "      <td>20</td>\n",
       "      <td>0.0</td>\n",
       "      <td>0.0</td>\n",
       "      <td>0</td>\n",
       "      <td>0</td>\n",
       "      <td>0.0</td>\n",
       "      <td>0.0</td>\n",
       "      <td>0</td>\n",
       "      <td>0</td>\n",
       "      <td>BENIGN</td>\n",
       "    </tr>\n",
       "    <tr>\n",
       "      <th>3</th>\n",
       "      <td>46236</td>\n",
       "      <td>34</td>\n",
       "      <td>1</td>\n",
       "      <td>1</td>\n",
       "      <td>6</td>\n",
       "      <td>6</td>\n",
       "      <td>6</td>\n",
       "      <td>6</td>\n",
       "      <td>6.0</td>\n",
       "      <td>0.00000</td>\n",
       "      <td>...</td>\n",
       "      <td>20</td>\n",
       "      <td>0.0</td>\n",
       "      <td>0.0</td>\n",
       "      <td>0</td>\n",
       "      <td>0</td>\n",
       "      <td>0.0</td>\n",
       "      <td>0.0</td>\n",
       "      <td>0</td>\n",
       "      <td>0</td>\n",
       "      <td>BENIGN</td>\n",
       "    </tr>\n",
       "    <tr>\n",
       "      <th>4</th>\n",
       "      <td>54863</td>\n",
       "      <td>3</td>\n",
       "      <td>2</td>\n",
       "      <td>0</td>\n",
       "      <td>12</td>\n",
       "      <td>0</td>\n",
       "      <td>6</td>\n",
       "      <td>6</td>\n",
       "      <td>6.0</td>\n",
       "      <td>0.00000</td>\n",
       "      <td>...</td>\n",
       "      <td>20</td>\n",
       "      <td>0.0</td>\n",
       "      <td>0.0</td>\n",
       "      <td>0</td>\n",
       "      <td>0</td>\n",
       "      <td>0.0</td>\n",
       "      <td>0.0</td>\n",
       "      <td>0</td>\n",
       "      <td>0</td>\n",
       "      <td>BENIGN</td>\n",
       "    </tr>\n",
       "    <tr>\n",
       "      <th>...</th>\n",
       "      <td>...</td>\n",
       "      <td>...</td>\n",
       "      <td>...</td>\n",
       "      <td>...</td>\n",
       "      <td>...</td>\n",
       "      <td>...</td>\n",
       "      <td>...</td>\n",
       "      <td>...</td>\n",
       "      <td>...</td>\n",
       "      <td>...</td>\n",
       "      <td>...</td>\n",
       "      <td>...</td>\n",
       "      <td>...</td>\n",
       "      <td>...</td>\n",
       "      <td>...</td>\n",
       "      <td>...</td>\n",
       "      <td>...</td>\n",
       "      <td>...</td>\n",
       "      <td>...</td>\n",
       "      <td>...</td>\n",
       "      <td>...</td>\n",
       "    </tr>\n",
       "    <tr>\n",
       "      <th>2830738</th>\n",
       "      <td>53</td>\n",
       "      <td>32215</td>\n",
       "      <td>4</td>\n",
       "      <td>2</td>\n",
       "      <td>112</td>\n",
       "      <td>152</td>\n",
       "      <td>28</td>\n",
       "      <td>28</td>\n",
       "      <td>28.0</td>\n",
       "      <td>0.00000</td>\n",
       "      <td>...</td>\n",
       "      <td>20</td>\n",
       "      <td>0.0</td>\n",
       "      <td>0.0</td>\n",
       "      <td>0</td>\n",
       "      <td>0</td>\n",
       "      <td>0.0</td>\n",
       "      <td>0.0</td>\n",
       "      <td>0</td>\n",
       "      <td>0</td>\n",
       "      <td>BENIGN</td>\n",
       "    </tr>\n",
       "    <tr>\n",
       "      <th>2830739</th>\n",
       "      <td>53</td>\n",
       "      <td>324</td>\n",
       "      <td>2</td>\n",
       "      <td>2</td>\n",
       "      <td>84</td>\n",
       "      <td>362</td>\n",
       "      <td>42</td>\n",
       "      <td>42</td>\n",
       "      <td>42.0</td>\n",
       "      <td>0.00000</td>\n",
       "      <td>...</td>\n",
       "      <td>20</td>\n",
       "      <td>0.0</td>\n",
       "      <td>0.0</td>\n",
       "      <td>0</td>\n",
       "      <td>0</td>\n",
       "      <td>0.0</td>\n",
       "      <td>0.0</td>\n",
       "      <td>0</td>\n",
       "      <td>0</td>\n",
       "      <td>BENIGN</td>\n",
       "    </tr>\n",
       "    <tr>\n",
       "      <th>2830740</th>\n",
       "      <td>58030</td>\n",
       "      <td>82</td>\n",
       "      <td>2</td>\n",
       "      <td>1</td>\n",
       "      <td>31</td>\n",
       "      <td>6</td>\n",
       "      <td>31</td>\n",
       "      <td>0</td>\n",
       "      <td>15.5</td>\n",
       "      <td>21.92031</td>\n",
       "      <td>...</td>\n",
       "      <td>32</td>\n",
       "      <td>0.0</td>\n",
       "      <td>0.0</td>\n",
       "      <td>0</td>\n",
       "      <td>0</td>\n",
       "      <td>0.0</td>\n",
       "      <td>0.0</td>\n",
       "      <td>0</td>\n",
       "      <td>0</td>\n",
       "      <td>BENIGN</td>\n",
       "    </tr>\n",
       "    <tr>\n",
       "      <th>2830741</th>\n",
       "      <td>53</td>\n",
       "      <td>1048635</td>\n",
       "      <td>6</td>\n",
       "      <td>2</td>\n",
       "      <td>192</td>\n",
       "      <td>256</td>\n",
       "      <td>32</td>\n",
       "      <td>32</td>\n",
       "      <td>32.0</td>\n",
       "      <td>0.00000</td>\n",
       "      <td>...</td>\n",
       "      <td>20</td>\n",
       "      <td>0.0</td>\n",
       "      <td>0.0</td>\n",
       "      <td>0</td>\n",
       "      <td>0</td>\n",
       "      <td>0.0</td>\n",
       "      <td>0.0</td>\n",
       "      <td>0</td>\n",
       "      <td>0</td>\n",
       "      <td>BENIGN</td>\n",
       "    </tr>\n",
       "    <tr>\n",
       "      <th>2830742</th>\n",
       "      <td>53</td>\n",
       "      <td>94939</td>\n",
       "      <td>4</td>\n",
       "      <td>2</td>\n",
       "      <td>188</td>\n",
       "      <td>226</td>\n",
       "      <td>47</td>\n",
       "      <td>47</td>\n",
       "      <td>47.0</td>\n",
       "      <td>0.00000</td>\n",
       "      <td>...</td>\n",
       "      <td>20</td>\n",
       "      <td>0.0</td>\n",
       "      <td>0.0</td>\n",
       "      <td>0</td>\n",
       "      <td>0</td>\n",
       "      <td>0.0</td>\n",
       "      <td>0.0</td>\n",
       "      <td>0</td>\n",
       "      <td>0</td>\n",
       "      <td>BENIGN</td>\n",
       "    </tr>\n",
       "  </tbody>\n",
       "</table>\n",
       "<p>2830743 rows × 79 columns</p>\n",
       "</div>"
      ],
      "text/plain": [
       "          Destination Port   Flow Duration   Total Fwd Packets  \\\n",
       "0                    54865               3                   2   \n",
       "1                    55054             109                   1   \n",
       "2                    55055              52                   1   \n",
       "3                    46236              34                   1   \n",
       "4                    54863               3                   2   \n",
       "...                    ...             ...                 ...   \n",
       "2830738                 53           32215                   4   \n",
       "2830739                 53             324                   2   \n",
       "2830740              58030              82                   2   \n",
       "2830741                 53         1048635                   6   \n",
       "2830742                 53           94939                   4   \n",
       "\n",
       "          Total Backward Packets  Total Length of Fwd Packets  \\\n",
       "0                              0                           12   \n",
       "1                              1                            6   \n",
       "2                              1                            6   \n",
       "3                              1                            6   \n",
       "4                              0                           12   \n",
       "...                          ...                          ...   \n",
       "2830738                        2                          112   \n",
       "2830739                        2                           84   \n",
       "2830740                        1                           31   \n",
       "2830741                        2                          192   \n",
       "2830742                        2                          188   \n",
       "\n",
       "          Total Length of Bwd Packets   Fwd Packet Length Max  \\\n",
       "0                                   0                       6   \n",
       "1                                   6                       6   \n",
       "2                                   6                       6   \n",
       "3                                   6                       6   \n",
       "4                                   0                       6   \n",
       "...                               ...                     ...   \n",
       "2830738                           152                      28   \n",
       "2830739                           362                      42   \n",
       "2830740                             6                      31   \n",
       "2830741                           256                      32   \n",
       "2830742                           226                      47   \n",
       "\n",
       "          Fwd Packet Length Min   Fwd Packet Length Mean  \\\n",
       "0                             6                      6.0   \n",
       "1                             6                      6.0   \n",
       "2                             6                      6.0   \n",
       "3                             6                      6.0   \n",
       "4                             6                      6.0   \n",
       "...                         ...                      ...   \n",
       "2830738                      28                     28.0   \n",
       "2830739                      42                     42.0   \n",
       "2830740                       0                     15.5   \n",
       "2830741                      32                     32.0   \n",
       "2830742                      47                     47.0   \n",
       "\n",
       "          Fwd Packet Length Std  ...   min_seg_size_forward  Active Mean  \\\n",
       "0                       0.00000  ...                     20          0.0   \n",
       "1                       0.00000  ...                     20          0.0   \n",
       "2                       0.00000  ...                     20          0.0   \n",
       "3                       0.00000  ...                     20          0.0   \n",
       "4                       0.00000  ...                     20          0.0   \n",
       "...                         ...  ...                    ...          ...   \n",
       "2830738                 0.00000  ...                     20          0.0   \n",
       "2830739                 0.00000  ...                     20          0.0   \n",
       "2830740                21.92031  ...                     32          0.0   \n",
       "2830741                 0.00000  ...                     20          0.0   \n",
       "2830742                 0.00000  ...                     20          0.0   \n",
       "\n",
       "          Active Std   Active Max   Active Min  Idle Mean   Idle Std  \\\n",
       "0                0.0            0            0        0.0        0.0   \n",
       "1                0.0            0            0        0.0        0.0   \n",
       "2                0.0            0            0        0.0        0.0   \n",
       "3                0.0            0            0        0.0        0.0   \n",
       "4                0.0            0            0        0.0        0.0   \n",
       "...              ...          ...          ...        ...        ...   \n",
       "2830738          0.0            0            0        0.0        0.0   \n",
       "2830739          0.0            0            0        0.0        0.0   \n",
       "2830740          0.0            0            0        0.0        0.0   \n",
       "2830741          0.0            0            0        0.0        0.0   \n",
       "2830742          0.0            0            0        0.0        0.0   \n",
       "\n",
       "          Idle Max   Idle Min   Label  \n",
       "0                0          0  BENIGN  \n",
       "1                0          0  BENIGN  \n",
       "2                0          0  BENIGN  \n",
       "3                0          0  BENIGN  \n",
       "4                0          0  BENIGN  \n",
       "...            ...        ...     ...  \n",
       "2830738          0          0  BENIGN  \n",
       "2830739          0          0  BENIGN  \n",
       "2830740          0          0  BENIGN  \n",
       "2830741          0          0  BENIGN  \n",
       "2830742          0          0  BENIGN  \n",
       "\n",
       "[2830743 rows x 79 columns]"
      ]
     },
     "execution_count": 7,
     "metadata": {},
     "output_type": "execute_result"
    }
   ],
   "source": [
    "# Importing the dataset\n",
    "dataset =pd.read_csv('combined_csv.csv')\n",
    "dataset"
   ]
  },
  {
   "cell_type": "code",
   "execution_count": 8,
   "metadata": {},
   "outputs": [
    {
     "name": "stdout",
     "output_type": "stream",
     "text": [
      "<class 'pandas.core.frame.DataFrame'>\n",
      "RangeIndex: 2830743 entries, 0 to 2830742\n",
      "Data columns (total 79 columns):\n",
      " #   Column                        Dtype  \n",
      "---  ------                        -----  \n",
      " 0    Destination Port             int64  \n",
      " 1    Flow Duration                int64  \n",
      " 2    Total Fwd Packets            int64  \n",
      " 3    Total Backward Packets       int64  \n",
      " 4   Total Length of Fwd Packets   int64  \n",
      " 5    Total Length of Bwd Packets  int64  \n",
      " 6    Fwd Packet Length Max        int64  \n",
      " 7    Fwd Packet Length Min        int64  \n",
      " 8    Fwd Packet Length Mean       float64\n",
      " 9    Fwd Packet Length Std        float64\n",
      " 10  Bwd Packet Length Max         int64  \n",
      " 11   Bwd Packet Length Min        int64  \n",
      " 12   Bwd Packet Length Mean       float64\n",
      " 13   Bwd Packet Length Std        float64\n",
      " 14  Flow Bytes/s                  float64\n",
      " 15   Flow Packets/s               float64\n",
      " 16   Flow IAT Mean                float64\n",
      " 17   Flow IAT Std                 float64\n",
      " 18   Flow IAT Max                 int64  \n",
      " 19   Flow IAT Min                 int64  \n",
      " 20  Fwd IAT Total                 int64  \n",
      " 21   Fwd IAT Mean                 float64\n",
      " 22   Fwd IAT Std                  float64\n",
      " 23   Fwd IAT Max                  int64  \n",
      " 24   Fwd IAT Min                  int64  \n",
      " 25  Bwd IAT Total                 int64  \n",
      " 26   Bwd IAT Mean                 float64\n",
      " 27   Bwd IAT Std                  float64\n",
      " 28   Bwd IAT Max                  int64  \n",
      " 29   Bwd IAT Min                  int64  \n",
      " 30  Fwd PSH Flags                 int64  \n",
      " 31   Bwd PSH Flags                int64  \n",
      " 32   Fwd URG Flags                int64  \n",
      " 33   Bwd URG Flags                int64  \n",
      " 34   Fwd Header Length            int64  \n",
      " 35   Bwd Header Length            int64  \n",
      " 36  Fwd Packets/s                 float64\n",
      " 37   Bwd Packets/s                float64\n",
      " 38   Min Packet Length            int64  \n",
      " 39   Max Packet Length            int64  \n",
      " 40   Packet Length Mean           float64\n",
      " 41   Packet Length Std            float64\n",
      " 42   Packet Length Variance       float64\n",
      " 43  FIN Flag Count                int64  \n",
      " 44   SYN Flag Count               int64  \n",
      " 45   RST Flag Count               int64  \n",
      " 46   PSH Flag Count               int64  \n",
      " 47   ACK Flag Count               int64  \n",
      " 48   URG Flag Count               int64  \n",
      " 49   CWE Flag Count               int64  \n",
      " 50   ECE Flag Count               int64  \n",
      " 51   Down/Up Ratio                int64  \n",
      " 52   Average Packet Size          float64\n",
      " 53   Avg Fwd Segment Size         float64\n",
      " 54   Avg Bwd Segment Size         float64\n",
      " 55   Fwd Header Length.1          int64  \n",
      " 56  Fwd Avg Bytes/Bulk            int64  \n",
      " 57   Fwd Avg Packets/Bulk         int64  \n",
      " 58   Fwd Avg Bulk Rate            int64  \n",
      " 59   Bwd Avg Bytes/Bulk           int64  \n",
      " 60   Bwd Avg Packets/Bulk         int64  \n",
      " 61  Bwd Avg Bulk Rate             int64  \n",
      " 62  Subflow Fwd Packets           int64  \n",
      " 63   Subflow Fwd Bytes            int64  \n",
      " 64   Subflow Bwd Packets          int64  \n",
      " 65   Subflow Bwd Bytes            int64  \n",
      " 66  Init_Win_bytes_forward        int64  \n",
      " 67   Init_Win_bytes_backward      int64  \n",
      " 68   act_data_pkt_fwd             int64  \n",
      " 69   min_seg_size_forward         int64  \n",
      " 70  Active Mean                   float64\n",
      " 71   Active Std                   float64\n",
      " 72   Active Max                   int64  \n",
      " 73   Active Min                   int64  \n",
      " 74  Idle Mean                     float64\n",
      " 75   Idle Std                     float64\n",
      " 76   Idle Max                     int64  \n",
      " 77   Idle Min                     int64  \n",
      " 78   Label                        object \n",
      "dtypes: float64(24), int64(54), object(1)\n",
      "memory usage: 1.7+ GB\n"
     ]
    }
   ],
   "source": [
    "dataset.info()"
   ]
  },
  {
   "cell_type": "code",
   "execution_count": 9,
   "metadata": {},
   "outputs": [],
   "source": [
    "df = dataset"
   ]
  },
  {
   "cell_type": "code",
   "execution_count": 10,
   "metadata": {},
   "outputs": [
    {
     "data": {
      "text/plain": [
       "Index([' Destination Port', ' Flow Duration', ' Total Fwd Packets',\n",
       "       ' Total Backward Packets', 'Total Length of Fwd Packets',\n",
       "       ' Total Length of Bwd Packets', ' Fwd Packet Length Max',\n",
       "       ' Fwd Packet Length Min', ' Fwd Packet Length Mean',\n",
       "       ' Fwd Packet Length Std', 'Bwd Packet Length Max',\n",
       "       ' Bwd Packet Length Min', ' Bwd Packet Length Mean',\n",
       "       ' Bwd Packet Length Std', 'Flow Bytes/s', ' Flow Packets/s',\n",
       "       ' Flow IAT Mean', ' Flow IAT Std', ' Flow IAT Max', ' Flow IAT Min',\n",
       "       'Fwd IAT Total', ' Fwd IAT Mean', ' Fwd IAT Std', ' Fwd IAT Max',\n",
       "       ' Fwd IAT Min', 'Bwd IAT Total', ' Bwd IAT Mean', ' Bwd IAT Std',\n",
       "       ' Bwd IAT Max', ' Bwd IAT Min', 'Fwd PSH Flags', ' Bwd PSH Flags',\n",
       "       ' Fwd URG Flags', ' Bwd URG Flags', ' Fwd Header Length',\n",
       "       ' Bwd Header Length', 'Fwd Packets/s', ' Bwd Packets/s',\n",
       "       ' Min Packet Length', ' Max Packet Length', ' Packet Length Mean',\n",
       "       ' Packet Length Std', ' Packet Length Variance', 'FIN Flag Count',\n",
       "       ' SYN Flag Count', ' RST Flag Count', ' PSH Flag Count',\n",
       "       ' ACK Flag Count', ' URG Flag Count', ' CWE Flag Count',\n",
       "       ' ECE Flag Count', ' Down/Up Ratio', ' Average Packet Size',\n",
       "       ' Avg Fwd Segment Size', ' Avg Bwd Segment Size',\n",
       "       ' Fwd Header Length.1', 'Fwd Avg Bytes/Bulk', ' Fwd Avg Packets/Bulk',\n",
       "       ' Fwd Avg Bulk Rate', ' Bwd Avg Bytes/Bulk', ' Bwd Avg Packets/Bulk',\n",
       "       'Bwd Avg Bulk Rate', 'Subflow Fwd Packets', ' Subflow Fwd Bytes',\n",
       "       ' Subflow Bwd Packets', ' Subflow Bwd Bytes', 'Init_Win_bytes_forward',\n",
       "       ' Init_Win_bytes_backward', ' act_data_pkt_fwd',\n",
       "       ' min_seg_size_forward', 'Active Mean', ' Active Std', ' Active Max',\n",
       "       ' Active Min', 'Idle Mean', ' Idle Std', ' Idle Max', ' Idle Min',\n",
       "       ' Label'],\n",
       "      dtype='object')"
      ]
     },
     "execution_count": 10,
     "metadata": {},
     "output_type": "execute_result"
    }
   ],
   "source": [
    "df.columns"
   ]
  },
  {
   "cell_type": "code",
   "execution_count": 11,
   "metadata": {},
   "outputs": [
    {
     "data": {
      "text/plain": [
       "BENIGN                      2273097\n",
       "DoS Hulk                     231073\n",
       "PortScan                     158930\n",
       "DDoS                         128027\n",
       "DoS GoldenEye                 10293\n",
       "FTP-Patator                    7938\n",
       "SSH-Patator                    5897\n",
       "DoS slowloris                  5796\n",
       "DoS Slowhttptest               5499\n",
       "Bot                            1966\n",
       "Web Attack Brute Force         1507\n",
       "Web Attack XSS                  652\n",
       "Infiltration                     36\n",
       "Web Attack Sql Injection         21\n",
       "Heartbleed                       11\n",
       "Name:  Label, dtype: int64"
      ]
     },
     "execution_count": 11,
     "metadata": {},
     "output_type": "execute_result"
    }
   ],
   "source": [
    "df[' Label'].value_counts()"
   ]
  },
  {
   "cell_type": "code",
   "execution_count": 12,
   "metadata": {},
   "outputs": [],
   "source": [
    "# Dropping columns with zero values\n",
    "df = df.drop(columns=[' Bwd PSH Flags', ' Bwd URG Flags', 'Fwd Avg Bytes/Bulk', ' Fwd Avg Packets/Bulk', ' Fwd Avg Bulk Rate',\n",
    "       ' Bwd Avg Bytes/Bulk', ' Bwd Avg Packets/Bulk', 'Bwd Avg Bulk Rate'])"
   ]
  },
  {
   "cell_type": "code",
   "execution_count": 13,
   "metadata": {
    "scrolled": true
   },
   "outputs": [
    {
     "data": {
      "text/plain": [
       "1358"
      ]
     },
     "execution_count": 13,
     "metadata": {},
     "output_type": "execute_result"
    }
   ],
   "source": [
    "# Taking care of missing values\n",
    "df.isnull().sum().sum()"
   ]
  },
  {
   "cell_type": "code",
   "execution_count": 14,
   "metadata": {},
   "outputs": [
    {
     "data": {
      "text/plain": [
       "0"
      ]
     },
     "execution_count": 14,
     "metadata": {},
     "output_type": "execute_result"
    }
   ],
   "source": [
    "# Dropping entries with missing values\n",
    "df = df.dropna(axis=0, how='any')\n",
    "df.isnull().sum().sum()"
   ]
  },
  {
   "cell_type": "code",
   "execution_count": 15,
   "metadata": {},
   "outputs": [],
   "source": [
    "# Converting inf values to nan \n",
    "df = df.replace([np.inf, -np.inf], np.nan)"
   ]
  },
  {
   "cell_type": "code",
   "execution_count": 16,
   "metadata": {},
   "outputs": [
    {
     "data": {
      "text/plain": [
       "3018"
      ]
     },
     "execution_count": 16,
     "metadata": {},
     "output_type": "execute_result"
    }
   ],
   "source": [
    "df.isnull().sum().sum()"
   ]
  },
  {
   "cell_type": "code",
   "execution_count": 17,
   "metadata": {},
   "outputs": [
    {
     "data": {
      "text/plain": [
       "0"
      ]
     },
     "execution_count": 17,
     "metadata": {},
     "output_type": "execute_result"
    }
   ],
   "source": [
    "# Dropping nan values\n",
    "df = df.dropna(axis=0, how='any')\n",
    "df.isnull().sum().sum()"
   ]
  },
  {
   "cell_type": "code",
   "execution_count": 18,
   "metadata": {},
   "outputs": [
    {
     "data": {
      "text/plain": [
       "BENIGN                      2271320\n",
       "DoS Hulk                     230124\n",
       "PortScan                     158804\n",
       "DDoS                         128025\n",
       "DoS GoldenEye                 10293\n",
       "FTP-Patator                    7935\n",
       "SSH-Patator                    5897\n",
       "DoS slowloris                  5796\n",
       "DoS Slowhttptest               5499\n",
       "Bot                            1956\n",
       "Web Attack Brute Force         1507\n",
       "Web Attack XSS                  652\n",
       "Infiltration                     36\n",
       "Web Attack Sql Injection         21\n",
       "Heartbleed                       11\n",
       "Name:  Label, dtype: int64"
      ]
     },
     "execution_count": 18,
     "metadata": {},
     "output_type": "execute_result"
    }
   ],
   "source": [
    "df[' Label'].value_counts()"
   ]
  },
  {
   "cell_type": "code",
   "execution_count": 19,
   "metadata": {},
   "outputs": [],
   "source": [
    "# Splitting the dataset\n",
    "X = df.iloc[:, :-1].values\n",
    "y = df.iloc[:, 70].values"
   ]
  },
  {
   "cell_type": "code",
   "execution_count": 20,
   "metadata": {},
   "outputs": [],
   "source": [
    "# Downsampling the majority class\n",
    "Down_Dic = {'BENIGN': 250000,\n",
    "            'DoS Hulk': 230124,\n",
    "            'PortScan': 158804,\n",
    "            'DDoS': 128025,\n",
    "            'DoS GoldenEye': 10293,\n",
    "            'FTP-Patator': 7935,\n",
    "            'SSH-Patator': 5897,\n",
    "            'DoS slowloris': 5796,\n",
    "           'DoS Slowhttptest': 5499,\n",
    "           'Bot': 1956,\n",
    "           'Web Attack Brute Force': 1507,\n",
    "           'Web Attack XSS': 652,\n",
    "           'Infiltration': 36,\n",
    "           'Web Attack Sql Injection': 21,\n",
    "           'Heartbleed': 11}\n",
    "\n",
    "DownSamp = RandomUnderSampler(sampling_strategy=Down_Dic, random_state=0)\n",
    "X,y=DownSamp.fit_sample(X,y)"
   ]
  },
  {
   "cell_type": "code",
   "execution_count": 22,
   "metadata": {},
   "outputs": [],
   "source": [
    "# Up-sampling the minority classes\n",
    "UP_Dic = {'BENIGN': 250000,\n",
    "            'DoS Hulk': 230124,\n",
    "            'PortScan': 158804,\n",
    "            'DDoS': 128025,\n",
    "            'DoS GoldenEye': 10293,\n",
    "            'FTP-Patator': 7935,\n",
    "           'SSH-Patator': 5897,\n",
    "           'DoS slowloris': 5796,\n",
    "           'DoS Slowhttptest': 5499,\n",
    "           'Bot': 5000,\n",
    "           'Web Attack Brute Force': 5000,\n",
    "           'Web Attack XSS': 5000,\n",
    "           'Infiltration': 5000,\n",
    "           'Web Attack Sql Injection': 5000,\n",
    "           'Heartbleed': 5000}\n",
    "\n",
    "UpSamp = SMOTE(sampling_strategy=UP_Dic, random_state=0)\n",
    "X,y=UpSamp.fit_sample(X,y)"
   ]
  },
  {
   "cell_type": "code",
   "execution_count": 24,
   "metadata": {},
   "outputs": [],
   "source": [
    "# Encoding categorical dependent variable\n",
    "y = pd.get_dummies(y)"
   ]
  },
  {
   "cell_type": "code",
   "execution_count": 25,
   "metadata": {},
   "outputs": [],
   "source": [
    "# Splitting the dataset into train and test set\n",
    "from sklearn.model_selection import train_test_split\n",
    "X_train, X_test, y_train, y_test = train_test_split(X, y, test_size = 0.3, random_state = 0)"
   ]
  },
  {
   "cell_type": "code",
   "execution_count": 26,
   "metadata": {},
   "outputs": [],
   "source": [
    "# Feature scaling\n",
    "from sklearn.preprocessing import StandardScaler\n",
    "sc = StandardScaler()\n",
    "X_train = sc.fit_transform(X_train)\n",
    "X_test = sc.transform(X_test)"
   ]
  },
  {
   "cell_type": "code",
   "execution_count": 27,
   "metadata": {},
   "outputs": [],
   "source": [
    "# Importing the Keras libraries and packages\n",
    "import keras\n",
    "from keras.models import Sequential\n",
    "from keras.layers import Dense"
   ]
  },
  {
   "cell_type": "code",
   "execution_count": 28,
   "metadata": {},
   "outputs": [
    {
     "name": "stdout",
     "output_type": "stream",
     "text": [
      "WARNING:tensorflow:From D:\\Users\\adelola\\Anaconda3\\lib\\site-packages\\keras\\backend\\tensorflow_backend.py:66: The name tf.get_default_graph is deprecated. Please use tf.compat.v1.get_default_graph instead.\n",
      "\n",
      "WARNING:tensorflow:From D:\\Users\\adelola\\Anaconda3\\lib\\site-packages\\keras\\backend\\tensorflow_backend.py:541: The name tf.placeholder is deprecated. Please use tf.compat.v1.placeholder instead.\n",
      "\n",
      "WARNING:tensorflow:From D:\\Users\\adelola\\Anaconda3\\lib\\site-packages\\keras\\backend\\tensorflow_backend.py:4432: The name tf.random_uniform is deprecated. Please use tf.random.uniform instead.\n",
      "\n"
     ]
    },
    {
     "name": "stderr",
     "output_type": "stream",
     "text": [
      "D:\\Users\\adelola\\Anaconda3\\lib\\site-packages\\ipykernel_launcher.py:5: UserWarning: Update your `Dense` call to the Keras 2 API: `Dense(activation=\"relu\", input_dim=70, units=42, kernel_initializer=\"uniform\")`\n",
      "  \"\"\"\n"
     ]
    }
   ],
   "source": [
    "# Initialising the ANN\n",
    "classifier = Sequential()\n",
    "\n",
    "# Adding the input layer and the first hidden layer\n",
    "classifier.add(Dense(output_dim = 42, init = 'uniform', activation = 'relu', input_dim = 70))"
   ]
  },
  {
   "cell_type": "code",
   "execution_count": 29,
   "metadata": {},
   "outputs": [
    {
     "name": "stderr",
     "output_type": "stream",
     "text": [
      "D:\\Users\\adelola\\Anaconda3\\lib\\site-packages\\ipykernel_launcher.py:2: UserWarning: Update your `Dense` call to the Keras 2 API: `Dense(activation=\"relu\", units=42, kernel_initializer=\"uniform\")`\n",
      "  \n"
     ]
    }
   ],
   "source": [
    "# Adding the second hidden layer\n",
    "classifier.add(Dense(output_dim = 42, init = 'uniform', activation = 'relu'))"
   ]
  },
  {
   "cell_type": "code",
   "execution_count": 30,
   "metadata": {},
   "outputs": [
    {
     "name": "stderr",
     "output_type": "stream",
     "text": [
      "D:\\Users\\adelola\\Anaconda3\\lib\\site-packages\\ipykernel_launcher.py:2: UserWarning: Update your `Dense` call to the Keras 2 API: `Dense(activation=\"softmax\", units=15, kernel_initializer=\"uniform\")`\n",
      "  \n"
     ]
    }
   ],
   "source": [
    "# Adding the output layer\n",
    "classifier.add(Dense(output_dim = 15, init = 'uniform', activation = 'softmax'))"
   ]
  },
  {
   "cell_type": "code",
   "execution_count": 31,
   "metadata": {},
   "outputs": [
    {
     "name": "stdout",
     "output_type": "stream",
     "text": [
      "WARNING:tensorflow:From D:\\Users\\adelola\\Anaconda3\\lib\\site-packages\\keras\\optimizers.py:793: The name tf.train.Optimizer is deprecated. Please use tf.compat.v1.train.Optimizer instead.\n",
      "\n",
      "WARNING:tensorflow:From D:\\Users\\adelola\\Anaconda3\\lib\\site-packages\\keras\\backend\\tensorflow_backend.py:3576: The name tf.log is deprecated. Please use tf.math.log instead.\n",
      "\n"
     ]
    }
   ],
   "source": [
    "# Compiling the ANN\n",
    "classifier.compile(optimizer = 'adam', loss = 'categorical_crossentropy', metrics = ['accuracy'])"
   ]
  },
  {
   "cell_type": "code",
   "execution_count": 35,
   "metadata": {},
   "outputs": [
    {
     "name": "stdout",
     "output_type": "stream",
     "text": [
      "WARNING:tensorflow:From D:\\Users\\adelola\\Anaconda3\\lib\\site-packages\\tensorflow\\python\\ops\\math_grad.py:1250: add_dispatch_support.<locals>.wrapper (from tensorflow.python.ops.array_ops) is deprecated and will be removed in a future version.\n",
      "Instructions for updating:\n",
      "Use tf.where in 2.0, which has the same broadcast rule as np.where\n"
     ]
    },
    {
     "name": "stderr",
     "output_type": "stream",
     "text": [
      "D:\\Users\\adelola\\Anaconda3\\lib\\site-packages\\ipykernel_launcher.py:2: UserWarning: The `nb_epoch` argument in `fit` has been renamed `epochs`.\n",
      "  \n"
     ]
    },
    {
     "name": "stdout",
     "output_type": "stream",
     "text": [
      "WARNING:tensorflow:From D:\\Users\\adelola\\Anaconda3\\lib\\site-packages\\keras\\backend\\tensorflow_backend.py:1033: The name tf.assign_add is deprecated. Please use tf.compat.v1.assign_add instead.\n",
      "\n",
      "Epoch 1/100\n",
      "582752/582752 [==============================] - 7s 11us/step - loss: 0.2071 - acc: 0.9380\n",
      "Epoch 2/100\n",
      "582752/582752 [==============================] - 6s 10us/step - loss: 0.0860 - acc: 0.9720\n",
      "Epoch 3/100\n",
      "582752/582752 [==============================] - 6s 11us/step - loss: 0.0759 - acc: 0.9741\n",
      "Epoch 4/100\n",
      "582752/582752 [==============================] - 6s 10us/step - loss: 0.0709 - acc: 0.9756\n",
      "Epoch 5/100\n",
      "582752/582752 [==============================] - 6s 11us/step - loss: 0.0677 - acc: 0.9767\n",
      "Epoch 6/100\n",
      "582752/582752 [==============================] - 6s 11us/step - loss: 0.0653 - acc: 0.9775\n",
      "Epoch 7/100\n",
      "582752/582752 [==============================] - 6s 10us/step - loss: 0.0639 - acc: 0.9780\n",
      "Epoch 8/100\n",
      "582752/582752 [==============================] - 6s 10us/step - loss: 0.0624 - acc: 0.9788\n",
      "Epoch 9/100\n",
      "582752/582752 [==============================] - 6s 11us/step - loss: 0.0612 - acc: 0.9791\n",
      "Epoch 10/100\n",
      "582752/582752 [==============================] - 6s 11us/step - loss: 0.0600 - acc: 0.9794\n",
      "Epoch 11/100\n",
      "582752/582752 [==============================] - 6s 11us/step - loss: 0.0589 - acc: 0.9797\n",
      "Epoch 12/100\n",
      "582752/582752 [==============================] - 6s 11us/step - loss: 0.0581 - acc: 0.9799\n",
      "Epoch 13/100\n",
      "582752/582752 [==============================] - 6s 11us/step - loss: 0.0570 - acc: 0.9803\n",
      "Epoch 14/100\n",
      "582752/582752 [==============================] - 6s 11us/step - loss: 0.0570 - acc: 0.9804\n",
      "Epoch 15/100\n",
      "582752/582752 [==============================] - 6s 11us/step - loss: 0.0559 - acc: 0.9804\n",
      "Epoch 16/100\n",
      "582752/582752 [==============================] - 6s 11us/step - loss: 0.0551 - acc: 0.9808\n",
      "Epoch 17/100\n",
      "582752/582752 [==============================] - 6s 11us/step - loss: 0.0538 - acc: 0.9810\n",
      "Epoch 18/100\n",
      "582752/582752 [==============================] - 6s 11us/step - loss: 0.0531 - acc: 0.9813\n",
      "Epoch 19/100\n",
      "582752/582752 [==============================] - 6s 11us/step - loss: 0.0519 - acc: 0.9816\n",
      "Epoch 20/100\n",
      "582752/582752 [==============================] - 6s 11us/step - loss: 0.0514 - acc: 0.9818\n",
      "Epoch 21/100\n",
      "582752/582752 [==============================] - 6s 11us/step - loss: 0.0493 - acc: 0.9822\n",
      "Epoch 22/100\n",
      "582752/582752 [==============================] - 6s 11us/step - loss: 0.0482 - acc: 0.9827\n",
      "Epoch 23/100\n",
      "582752/582752 [==============================] - 6s 11us/step - loss: 0.0464 - acc: 0.9834\n",
      "Epoch 24/100\n",
      "582752/582752 [==============================] - 6s 11us/step - loss: 0.0446 - acc: 0.9840\n",
      "Epoch 25/100\n",
      "582752/582752 [==============================] - 6s 11us/step - loss: 0.0437 - acc: 0.9846\n",
      "Epoch 26/100\n",
      "582752/582752 [==============================] - 6s 11us/step - loss: 0.0420 - acc: 0.9850\n",
      "Epoch 27/100\n",
      "582752/582752 [==============================] - 6s 11us/step - loss: 0.0411 - acc: 0.9854\n",
      "Epoch 28/100\n",
      "582752/582752 [==============================] - 6s 11us/step - loss: 0.0419 - acc: 0.9855\n",
      "Epoch 29/100\n",
      "582752/582752 [==============================] - 6s 11us/step - loss: 0.0405 - acc: 0.9857\n",
      "Epoch 30/100\n",
      "582752/582752 [==============================] - 6s 11us/step - loss: 0.0398 - acc: 0.9858\n",
      "Epoch 31/100\n",
      "582752/582752 [==============================] - 6s 11us/step - loss: 0.0404 - acc: 0.9856\n",
      "Epoch 32/100\n",
      "582752/582752 [==============================] - 6s 11us/step - loss: 0.0390 - acc: 0.9860\n",
      "Epoch 33/100\n",
      "582752/582752 [==============================] - 6s 11us/step - loss: 0.0397 - acc: 0.9858\n",
      "Epoch 34/100\n",
      "582752/582752 [==============================] - 6s 11us/step - loss: 0.0394 - acc: 0.9858\n",
      "Epoch 35/100\n",
      "582752/582752 [==============================] - 6s 11us/step - loss: 0.0381 - acc: 0.9862\n",
      "Epoch 36/100\n",
      "582752/582752 [==============================] - 6s 11us/step - loss: 0.0388 - acc: 0.9861\n",
      "Epoch 37/100\n",
      "582752/582752 [==============================] - 6s 11us/step - loss: 0.0386 - acc: 0.9860\n",
      "Epoch 38/100\n",
      "582752/582752 [==============================] - 6s 11us/step - loss: 0.0380 - acc: 0.9863\n",
      "Epoch 39/100\n",
      "582752/582752 [==============================] - 6s 11us/step - loss: 0.0384 - acc: 0.9862\n",
      "Epoch 40/100\n",
      "582752/582752 [==============================] - 6s 11us/step - loss: 0.0386 - acc: 0.9862\n",
      "Epoch 41/100\n",
      "582752/582752 [==============================] - 6s 11us/step - loss: 0.0382 - acc: 0.9863\n",
      "Epoch 42/100\n",
      "582752/582752 [==============================] - 6s 11us/step - loss: 0.0385 - acc: 0.9861\n",
      "Epoch 43/100\n",
      "582752/582752 [==============================] - 6s 11us/step - loss: 0.0381 - acc: 0.9862\n",
      "Epoch 44/100\n",
      "582752/582752 [==============================] - 6s 11us/step - loss: 0.0375 - acc: 0.9864\n",
      "Epoch 45/100\n",
      "582752/582752 [==============================] - 6s 11us/step - loss: 0.0377 - acc: 0.9862\n",
      "Epoch 46/100\n",
      "582752/582752 [==============================] - 6s 11us/step - loss: 0.0374 - acc: 0.9865\n",
      "Epoch 47/100\n",
      "582752/582752 [==============================] - 6s 11us/step - loss: 0.0374 - acc: 0.9864\n",
      "Epoch 48/100\n",
      "582752/582752 [==============================] - 6s 11us/step - loss: 0.0383 - acc: 0.9865\n",
      "Epoch 49/100\n",
      "582752/582752 [==============================] - 6s 11us/step - loss: 0.0372 - acc: 0.9865\n",
      "Epoch 50/100\n",
      "582752/582752 [==============================] - 6s 11us/step - loss: 0.0371 - acc: 0.9865\n",
      "Epoch 51/100\n",
      "582752/582752 [==============================] - 6s 11us/step - loss: 0.0381 - acc: 0.9863\n",
      "Epoch 52/100\n",
      "582752/582752 [==============================] - 6s 11us/step - loss: 0.0376 - acc: 0.9863\n",
      "Epoch 53/100\n",
      "582752/582752 [==============================] - 6s 11us/step - loss: 0.0391 - acc: 0.9859\n",
      "Epoch 54/100\n",
      "582752/582752 [==============================] - 6s 11us/step - loss: 0.0384 - acc: 0.9864\n",
      "Epoch 55/100\n",
      "582752/582752 [==============================] - 6s 11us/step - loss: 0.0376 - acc: 0.9868\n",
      "Epoch 56/100\n",
      "582752/582752 [==============================] - 6s 11us/step - loss: 0.0365 - acc: 0.9867\n",
      "Epoch 57/100\n",
      "582752/582752 [==============================] - 6s 11us/step - loss: 0.0371 - acc: 0.9868\n",
      "Epoch 58/100\n",
      "582752/582752 [==============================] - 6s 11us/step - loss: 0.0374 - acc: 0.9869\n",
      "Epoch 59/100\n",
      "582752/582752 [==============================] - 6s 11us/step - loss: 0.0371 - acc: 0.9867\n",
      "Epoch 60/100\n",
      "582752/582752 [==============================] - 6s 11us/step - loss: 0.0361 - acc: 0.9872\n",
      "Epoch 61/100\n",
      "582752/582752 [==============================] - 6s 11us/step - loss: 0.0356 - acc: 0.9870\n",
      "Epoch 62/100\n",
      "582752/582752 [==============================] - 6s 11us/step - loss: 0.0352 - acc: 0.9870\n",
      "Epoch 63/100\n",
      "582752/582752 [==============================] - 6s 11us/step - loss: 0.0390 - acc: 0.9861\n",
      "Epoch 64/100\n",
      "582752/582752 [==============================] - 6s 11us/step - loss: 0.0387 - acc: 0.9869\n",
      "Epoch 65/100\n",
      "582752/582752 [==============================] - 6s 11us/step - loss: 0.0356 - acc: 0.9871\n",
      "Epoch 66/100\n",
      "582752/582752 [==============================] - 6s 11us/step - loss: 0.0348 - acc: 0.9872\n",
      "Epoch 67/100\n",
      "582752/582752 [==============================] - 6s 11us/step - loss: 0.0354 - acc: 0.9870\n",
      "Epoch 68/100\n",
      "582752/582752 [==============================] - 6s 11us/step - loss: 0.0351 - acc: 0.9871\n",
      "Epoch 69/100\n",
      "582752/582752 [==============================] - 6s 11us/step - loss: 0.0360 - acc: 0.9865\n",
      "Epoch 70/100\n",
      "582752/582752 [==============================] - 6s 11us/step - loss: 0.0339 - acc: 0.9873\n",
      "Epoch 71/100\n",
      "582752/582752 [==============================] - 6s 11us/step - loss: 0.0349 - acc: 0.9872\n",
      "Epoch 72/100\n",
      "582752/582752 [==============================] - 6s 11us/step - loss: 0.0346 - acc: 0.9873\n",
      "Epoch 73/100\n",
      "582752/582752 [==============================] - 6s 11us/step - loss: 0.0356 - acc: 0.9868\n",
      "Epoch 74/100\n",
      "582752/582752 [==============================] - 6s 11us/step - loss: 0.0349 - acc: 0.9871\n",
      "Epoch 75/100\n",
      "582752/582752 [==============================] - 6s 11us/step - loss: 0.0332 - acc: 0.9873\n",
      "Epoch 76/100\n",
      "582752/582752 [==============================] - 6s 11us/step - loss: 0.0361 - acc: 0.9870\n",
      "Epoch 77/100\n",
      "582752/582752 [==============================] - 6s 11us/step - loss: 0.0355 - acc: 0.9869\n",
      "Epoch 78/100\n",
      "582752/582752 [==============================] - 6s 11us/step - loss: 0.0354 - acc: 0.9868\n",
      "Epoch 79/100\n",
      "582752/582752 [==============================] - 6s 11us/step - loss: 0.0338 - acc: 0.9875\n",
      "Epoch 80/100\n",
      "582752/582752 [==============================] - 6s 11us/step - loss: 0.0336 - acc: 0.9874\n",
      "Epoch 81/100\n",
      "582752/582752 [==============================] - 6s 11us/step - loss: 0.0336 - acc: 0.9875\n",
      "Epoch 82/100\n",
      "582752/582752 [==============================] - 6s 11us/step - loss: 0.0340 - acc: 0.9874\n",
      "Epoch 83/100\n",
      "582752/582752 [==============================] - 6s 11us/step - loss: 0.0361 - acc: 0.9870\n",
      "Epoch 84/100\n",
      "582752/582752 [==============================] - 6s 11us/step - loss: 0.0328 - acc: 0.9876\n",
      "Epoch 85/100\n",
      "582752/582752 [==============================] - 6s 11us/step - loss: 0.0362 - acc: 0.9873\n",
      "Epoch 86/100\n",
      "582752/582752 [==============================] - 6s 11us/step - loss: 0.0350 - acc: 0.9871\n",
      "Epoch 87/100\n",
      "582752/582752 [==============================] - 6s 11us/step - loss: 0.0327 - acc: 0.9877\n",
      "Epoch 88/100\n",
      "582752/582752 [==============================] - 6s 11us/step - loss: 0.0371 - acc: 0.9872\n",
      "Epoch 89/100\n",
      "582752/582752 [==============================] - 6s 11us/step - loss: 0.0372 - acc: 0.9873\n",
      "Epoch 90/100\n",
      "582752/582752 [==============================] - 6s 11us/step - loss: 0.0334 - acc: 0.9877\n",
      "Epoch 91/100\n",
      "582752/582752 [==============================] - 6s 11us/step - loss: 0.0323 - acc: 0.9878\n",
      "Epoch 92/100\n",
      "582752/582752 [==============================] - 6s 11us/step - loss: 0.0335 - acc: 0.9875\n",
      "Epoch 93/100\n",
      "582752/582752 [==============================] - 6s 11us/step - loss: 0.0323 - acc: 0.9880\n",
      "Epoch 94/100\n",
      "582752/582752 [==============================] - 6s 11us/step - loss: 0.0343 - acc: 0.9877\n",
      "Epoch 95/100\n",
      "582752/582752 [==============================] - 6s 11us/step - loss: 0.0326 - acc: 0.9877\n",
      "Epoch 96/100\n",
      "582752/582752 [==============================] - 6s 11us/step - loss: 0.0318 - acc: 0.9878\n",
      "Epoch 97/100\n",
      "582752/582752 [==============================] - 6s 11us/step - loss: 0.0324 - acc: 0.9879\n",
      "Epoch 98/100\n",
      "582752/582752 [==============================] - 6s 11us/step - loss: 0.0328 - acc: 0.9878\n",
      "Epoch 99/100\n",
      "582752/582752 [==============================] - 6s 11us/step - loss: 0.0330 - acc: 0.9876\n",
      "Epoch 100/100\n",
      "582752/582752 [==============================] - 6s 11us/step - loss: 0.0333 - acc: 0.9877\n"
     ]
    },
    {
     "data": {
      "text/plain": [
       "<keras.callbacks.History at 0x1690398f448>"
      ]
     },
     "execution_count": 35,
     "metadata": {},
     "output_type": "execute_result"
    }
   ],
   "source": [
    "# Fitting the ANN to the Training set\n",
    "classifier.fit(X_train, y_train, batch_size = 128, nb_epoch = 100)"
   ]
  },
  {
   "cell_type": "code",
   "execution_count": 32,
   "metadata": {},
   "outputs": [
    {
     "name": "stdout",
     "output_type": "stream",
     "text": [
      "WARNING:tensorflow:From D:\\Users\\adelola\\Anaconda3\\lib\\site-packages\\tensorflow\\python\\ops\\math_grad.py:1250: add_dispatch_support.<locals>.wrapper (from tensorflow.python.ops.array_ops) is deprecated and will be removed in a future version.\n",
      "Instructions for updating:\n",
      "Use tf.where in 2.0, which has the same broadcast rule as np.where\n",
      "WARNING:tensorflow:From D:\\Users\\adelola\\Anaconda3\\lib\\site-packages\\keras\\backend\\tensorflow_backend.py:1033: The name tf.assign_add is deprecated. Please use tf.compat.v1.assign_add instead.\n",
      "\n"
     ]
    }
   ],
   "source": [
    "# Fitting the ANN to the Training set\n",
    "#classifier.fit(X_train, y_train, batch_size = 128, nb_epoch = 100)\n",
    "history = classifier.fit(X_train, y_train, validation_split=0.33, epochs=100, batch_size=128, verbose=0)"
   ]
  },
  {
   "cell_type": "code",
   "execution_count": 38,
   "metadata": {},
   "outputs": [],
   "source": [
    "# Predicting the test set results\n",
    "y_pred = classifier.predict(X_test)\n",
    "y_pred = (y_pred > 0.7)"
   ]
  },
  {
   "cell_type": "code",
   "execution_count": 39,
   "metadata": {},
   "outputs": [],
   "source": [
    "# Evaluating the model\n",
    "from sklearn.metrics import accuracy_score \n",
    "accuracy = accuracy_score(y_test, y_pred)\n",
    "accuracy"
   ]
  },
  {
   "cell_type": "code",
   "execution_count": 41,
   "metadata": {},
   "outputs": [
    {
     "data": {
      "text/plain": [
       "0.9766891458960723"
      ]
     },
     "execution_count": 41,
     "metadata": {},
     "output_type": "execute_result"
    }
   ],
   "source": [
    "accuracy"
   ]
  },
  {
   "cell_type": "code",
   "execution_count": 42,
   "metadata": {},
   "outputs": [
    {
     "data": {
      "text/plain": [
       "0.17568275232969355"
      ]
     },
     "execution_count": 42,
     "metadata": {},
     "output_type": "execute_result"
    }
   ],
   "source": [
    "from sklearn.metrics import log_loss\n",
    "score = log_loss(y_test, y_pred)\n",
    "score"
   ]
  },
  {
   "cell_type": "code",
   "execution_count": 36,
   "metadata": {},
   "outputs": [
    {
     "data": {
      "image/png": "[encoded data removed]",
      "text/plain": [
       "<IPython.core.display.Image object>"
      ]
     },
     "execution_count": 36,
     "metadata": {},
     "output_type": "execute_result"
    }
   ],
   "source": [
    "#Visualizing the neural network\n",
    "from keras.utils.vis_utils import plot_model\n",
    "plot_model(classifier, to_file='classifier_plot.png', show_shapes=True, show_layer_names=True)"
   ]
  },
  {
   "cell_type": "code",
   "execution_count": 43,
   "metadata": {},
   "outputs": [
    {
     "data": {
      "text/plain": [
       "0.9026902923643463"
      ]
     },
     "execution_count": 43,
     "metadata": {},
     "output_type": "execute_result"
    }
   ],
   "source": [
    "# Evaluating the model\n",
    "from sklearn.metrics import roc_auc_score\n",
    "auc_score = roc_auc_score(y_test, y_pred) \n",
    "auc_score"
   ]
  },
  {
   "cell_type": "code",
   "execution_count": 44,
   "metadata": {},
   "outputs": [
    {
     "data": {
      "text/plain": [
       "0.840455190537483"
      ]
     },
     "execution_count": 44,
     "metadata": {},
     "output_type": "execute_result"
    }
   ],
   "source": [
    "from sklearn.metrics import f1_score\n",
    "f1 = f1_score(y_test, y_pred, average='macro') \n",
    "f1"
   ]
  },
  {
   "cell_type": "code",
   "execution_count": 33,
   "metadata": {},
   "outputs": [
    {
     "name": "stdout",
     "output_type": "stream",
     "text": [
      "dict_keys(['val_loss', 'val_acc', 'loss', 'acc'])\n"
     ]
    }
   ],
   "source": [
    "# list all data in history\n",
    "print(history.history.keys())"
   ]
  },
  {
   "cell_type": "code",
   "execution_count": 34,
   "metadata": {},
   "outputs": [
    {
     "data": {
      "image/png": "[encoded data removed]",
      "text/plain": [
       "<Figure size 432x288 with 1 Axes>"
      ]
     },
     "metadata": {
      "needs_background": "light"
     },
     "output_type": "display_data"
    },
    {
     "data": {
      "image/png": "[encoded data removed]",
      "text/plain": [
       "<Figure size 432x288 with 1 Axes>"
      ]
     },
     "metadata": {
      "needs_background": "light"
     },
     "output_type": "display_data"
    }
   ],
   "source": [
    "# summarize history for accuracy\n",
    "plt.plot(history.history['acc'])\n",
    "plt.plot(history.history['val_acc'])\n",
    "plt.title('model accuracy')\n",
    "plt.ylabel('accuracy')\n",
    "plt.xlabel('epoch')\n",
    "plt.legend(['train', 'test'], loc='upper left')\n",
    "plt.show()\n",
    "# summarize history for loss\n",
    "plt.plot(history.history['loss'])\n",
    "plt.plot(history.history['val_loss'])\n",
    "plt.title('model loss')\n",
    "plt.ylabel('loss')\n",
    "plt.xlabel('epoch')\n",
    "plt.legend(['train', 'test'], loc='upper left')\n",
    "plt.show()"
   ]
  },
  {
   "cell_type": "code",
   "execution_count": 35,
   "metadata": {},
   "outputs": [
    {
     "name": "stdout",
     "output_type": "stream",
     "text": [
      "acc: 98.58%\n",
      "98.58% (+/- 0.00%)\n"
     ]
    }
   ],
   "source": [
    "# evaluating the model\n",
    "cvscores = []\n",
    "scores = classifier.evaluate(X_test, y_test, verbose=0)\n",
    "print(\"%s: %.2f%%\" % (classifier.metrics_names[1], scores[1]*100))\n",
    "cvscores.append(scores[1] * 100)\n",
    "print(\"%.2f%% (+/- %.2f%%)\" % (np.mean(cvscores), np.std(cvscores)))"
   ]
  },
  {
   "cell_type": "code",
   "execution_count": 45,
   "metadata": {},
   "outputs": [
    {
     "data": {
      "text/plain": [
       "0.985159843997324"
      ]
     },
     "execution_count": 45,
     "metadata": {},
     "output_type": "execute_result"
    }
   ],
   "source": [
    "from sklearn.metrics import precision_score\n",
    "precision_score = precision_score(y_test, y_pred, average='macro') \n",
    "precision_score"
   ]
  },
  {
   "cell_type": "code",
   "execution_count": 46,
   "metadata": {},
   "outputs": [
    {
     "data": {
      "text/plain": [
       "0.8056842608639145"
      ]
     },
     "execution_count": 46,
     "metadata": {},
     "output_type": "execute_result"
    }
   ],
   "source": [
    "from sklearn.metrics import recall_score\n",
    "recall_score = recall_score(y_test, y_pred, average='macro') \n",
    "recall_score"
   ]
  },
  {
   "cell_type": "code",
   "execution_count": 50,
   "metadata": {},
   "outputs": [
    {
     "data": {
      "text/plain": [
       "array(['BENIGN', 'DDoS', 'PortScan', 'Bot', 'Infiltration',\n",
       "       'Web Attack Brute Force', 'Web Attack XSS',\n",
       "       'Web Attack Sql Injection', 'FTP-Patator', 'SSH-Patator',\n",
       "       'DoS slowloris', 'DoS Slowhttptest', 'DoS Hulk', 'DoS GoldenEye',\n",
       "       'Heartbleed'], dtype=object)"
      ]
     },
     "execution_count": 50,
     "metadata": {},
     "output_type": "execute_result"
    }
   ],
   "source": [
    "# Converting the label column to an array\n",
    "df2 = df[' Label']\n",
    "feat = df2.values\n",
    "label = df2.unique()\n",
    "label"
   ]
  },
  {
   "cell_type": "code",
   "execution_count": 47,
   "metadata": {},
   "outputs": [],
   "source": [
    "# Function to plot confusion matrix for multi-class label\n",
    "def plot_confusion_matrix(cm, classes,\n",
    "                          normalize=False,\n",
    "                          title='Confusion matrix',\n",
    "                          cmap=plt.cm.Blues):\n",
    "    \"\"\"\n",
    "    This function prints and plots the confusion matrix.\n",
    "    Normalization can be applied by setting `normalize=True`.\n",
    "    \"\"\"\n",
    "    import itertools\n",
    "    if normalize:\n",
    "        cm = cm.astype('float') / cm.sum(axis=1)[:, np.newaxis]\n",
    "        print(\"Normalized confusion matrix\")\n",
    "    else:\n",
    "        print('Confusion matrix, without normalization')\n",
    "\n",
    "    print(cm)\n",
    "    \n",
    "    plt.figure(figsize=(20,10))\n",
    "\n",
    "    plt.imshow(cm, interpolation='nearest', cmap=cmap)\n",
    "    plt.title(title)\n",
    "    plt.colorbar()\n",
    "    tick_marks = np.arange(len(classes))\n",
    "    plt.xticks(tick_marks, classes, rotation=45)\n",
    "    plt.yticks(tick_marks, classes)\n",
    "\n",
    "    fmt = '.2f' if normalize else 'd'\n",
    "    thresh = cm.max() / 2.\n",
    "    for i, j in itertools.product(range(cm.shape[0]), range(cm.shape[1])):\n",
    "        plt.text(j, i, format(cm[i, j], fmt),\n",
    "                 horizontalalignment=\"center\",\n",
    "                 color=\"white\" if cm[i, j] > thresh else \"black\")\n",
    "\n",
    "    plt.ylabel('True label')\n",
    "    plt.xlabel('Predicted label')\n",
    "    plt.tight_layout()"
   ]
  },
  {
   "cell_type": "code",
   "execution_count": 51,
   "metadata": {},
   "outputs": [
    {
     "name": "stdout",
     "output_type": "stream",
     "text": [
      "Confusion matrix, without normalization\n",
      "[[74522    86     5    10   337    21     3     9     0     5    72     7\n",
      "      0     2     1]\n",
      " [  443  1009     0     0     0     0     0     0     0     0     0     0\n",
      "      0     0     0]\n",
      " [   37     0 38371     2     0     0     0     0     0     0     0     0\n",
      "      0     0     0]\n",
      " [   20     0     0  3080     0     1     0     0     0     0     0     0\n",
      "      0     0     0]\n",
      " [   49     0     0     1 69064     0     0     0     0     0     0     0\n",
      "      0     0     0]\n",
      " [   12     0     0     1     0  1587    11     0     0     0     0     0\n",
      "      0     0     0]\n",
      " [    8     0     0     1     0     8  1753     0     0     0     0     0\n",
      "      0     0     0]\n",
      " [    4     0     0     0     0     0     3  2360     0     0     0     0\n",
      "      0     0     0]\n",
      " [    0     0     0     0     0     0     0     0  1426     0     0     0\n",
      "      0     0     0]\n",
      " [    2     0     0     0     0     0     0     0     0  1514     0     0\n",
      "      0     0     0]\n",
      " [    6     0     0     0    15     0     0     0     0     0 47574     0\n",
      "      0     0     0]\n",
      " [  820     0     0     0     0     0     1     7     0     0     0   935\n",
      "      0     0     0]\n",
      " [    0     0     0     0     0     0     0     0     0     0     0     0\n",
      "      0     0     0]\n",
      " [ 1309     0     0     0     0     0     0     0     0     0     1     5\n",
      "      0   217     2]\n",
      " [ 1380     0     0     1     1     0     0     0     0     0     0     5\n",
      "      0     1    83]]\n"
     ]
    },
    {
     "data": {
      "text/plain": [
       "<Figure size 432x288 with 0 Axes>"
      ]
     },
     "metadata": {},
     "output_type": "display_data"
    },
    {
     "data": {
      "image/png": "[encoded data removed]",
      "text/plain": [
       "<Figure size 1440x720 with 2 Axes>"
      ]
     },
     "metadata": {
      "needs_background": "light"
     },
     "output_type": "display_data"
    }
   ],
   "source": [
    "# Plotting confusion matrix\n",
    "from sklearn.metrics import confusion_matrix\n",
    "\n",
    "cnf_matrix = confusion_matrix(y_test.values.argmax(axis=1), y_pred.argmax(axis=1),labels=[0, 1, 2, 3, 4, 5, 6,\n",
    "                                                                                         7, 8, 9, 10, 11, 12, 12, 14])\n",
    "np.set_printoptions(precision=2)\n",
    "\n",
    "# Plot non-normalized confusion matrix\n",
    "plt.figure()\n",
    "plot_confusion_matrix(cnf_matrix, classes=label,\n",
    "                      title='Confusion matrix, without normalization')"
   ]
  },
  {
   "cell_type": "code",
   "execution_count": null,
   "metadata": {},
   "outputs": [],
   "source": []
  }
 ],
 "metadata": {
  "kernelspec": {
   "display_name": "Python 3",
   "language": "python",
   "name": "python3"
  },
  "language_info": {
   "codemirror_mode": {
    "name": "ipython",
    "version": 3
   },
   "file_extension": ".py",
   "mimetype": "text/x-python",
   "name": "python",
   "nbconvert_exporter": "python",
   "pygments_lexer": "ipython3",
   "version": "3.7.6"
  }
 },
 "nbformat": 4,
 "nbformat_minor": 4
}
